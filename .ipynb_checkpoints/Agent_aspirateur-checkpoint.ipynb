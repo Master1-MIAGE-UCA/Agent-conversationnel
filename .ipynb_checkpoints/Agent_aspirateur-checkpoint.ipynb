{
 "cells": [
  {
   "cell_type": "code",
   "execution_count": 1,
   "metadata": {
    "id": "Adx8LR30NH2d"
   },
   "outputs": [],
   "source": [
    "from random import *"
   ]
  },
  {
   "cell_type": "markdown",
   "metadata": {},
   "source": [
    "Génère un taux de poussière aléatoire par piece et l'ajoute ensuite dans le réservoir de l'aspirateur.\n",
    "Lorsque l'aspirateur est trop plein, il change le sac de son réservoir. "
   ]
  },
  {
   "cell_type": "code",
   "execution_count": 2,
   "metadata": {
    "id": "JF122RtoLMmd"
   },
   "outputs": [],
   "source": [
    "def randompouss(init):\n",
    "    pousssale = random()\n",
    "    sacpouss = init + pousssale\n",
    "    print(\"Etat du sac a poussière : \" , sacpouss,\" g de poussière\")\n",
    "    if sacpouss > 1 :\n",
    "        print(\"ATTENTION SAC PLEIN !\")\n",
    "        print(\"CHANGEMENT DU SAC EN COURS\")\n",
    "        sacpouss = 0\n",
    "    else :\n",
    "        info = 1 - sacpouss\n",
    "        print(\"Il reste \", info, \" avant le changement de sac\")\n",
    "    return sacpouss"
   ]
  },
  {
   "cell_type": "markdown",
   "metadata": {},
   "source": [
    "Génère 2 pièces avec un état aléatoire (propre/sale):"
   ]
  },
  {
   "cell_type": "code",
   "execution_count": 3,
   "metadata": {
    "id": "SSG0V0vLKBcF"
   },
   "outputs": [],
   "source": [
    "def randomrooms() :\n",
    "    liste = []\n",
    "    for i in range(2):\n",
    "        if random() <= 0.50 :\n",
    "            liste.append(\"sale\")\n",
    "        else:\n",
    "            liste.append(\"propre\")\n",
    "    return liste  "
   ]
  },
  {
   "cell_type": "markdown",
   "metadata": {},
   "source": [
    "# Aspirateur simple :\n",
    "Cet aspirateur va nettoyer la piece si elle est sale, mais si elle est propre il change de pièce "
   ]
  },
  {
   "cell_type": "code",
   "execution_count": 4,
   "metadata": {
    "id": "LFq0eD2Jyo-a"
   },
   "outputs": [],
   "source": [
    "def aspirateur__simple (emp,etat):\n",
    "    action = \"\"\n",
    "    statut= \"\"\n",
    "    sacpouss = 0\n",
    "    print(\"Etat des pieces au depart : \", \"A : \", etat[0],\" B : \",etat[1])\n",
    "    print(\"Piece ou l'aspirateur est initialement : \", emp)\n",
    "    print(\"-------------------------------------------------------------\")\n",
    "    print(\"COMMENCEMENT\")\n",
    "    if emp == \"A\" :\n",
    "        print(\"Salle actuelle: \",emp)\n",
    "        print(\"Etat initial : \", etat[0])\n",
    "        if etat[0] == \"sale\":\n",
    "            etat[0] = etat[0].replace(etat[0],\"propre\")\n",
    "            print(\"Action :\", action, \" nouvel etat : \", etat[0])\n",
    "            action = \"aspirer\"\n",
    "            sacpouss = randompouss(sacpouss)\n",
    "        else :\n",
    "            action = \"Droite\"\n",
    "            emp = \"B\"\n",
    "            print(\"Action :\", action, \"nouvelle salle : \", emp)\n",
    "    else :\n",
    "        print(\"Salle actuelle: \",emp)\n",
    "        print(\"Etat initial : \", etat[1])\n",
    "        if etat[1] == \"sale\":\n",
    "            action = \"aspirer\"\n",
    "            etat[1] = etat[1].replace(etat[1],\"propre\")\n",
    "            print(\"Action :\", action, \" nouvel etat : \", etat[1])\n",
    "            sacpouss = randompouss(sacpouss)\n",
    "\n",
    "        else :\n",
    "            action = \"Gauche\"\n",
    "            emp = \"A\"\n",
    "            print(\"Action :\", action, \"nouvelle salle : \", emp)\n",
    "    print(\"Etats des pieces a la fin : salle A :\",etat[0] ,\" Etat salle B :\",etat[1])"
   ]
  },
  {
   "cell_type": "code",
   "execution_count": 5,
   "metadata": {
    "colab": {
     "base_uri": "https://localhost:8080/",
     "height": 105
    },
    "id": "E_NELNFYTEP9",
    "outputId": "e47c851c-1ee9-40d0-cc1a-9960940d3711"
   },
   "outputs": [
    {
     "name": "stdout",
     "output_type": "stream",
     "text": [
      "Etat des pieces au depart :  A :  propre  B :  propre\n",
      "Piece ou l'aspirateur est initialement :  B\n",
      "-------------------------------------------------------------\n",
      "COMMENCEMENT\n",
      "Salle actuelle:  B\n",
      "Etat initial :  propre\n",
      "Action : Gauche nouvelle salle :  A\n",
      "Etats des pieces a la fin : salle A : propre  Etat salle B : propre\n"
     ]
    }
   ],
   "source": [
    "aspirateur__simple(\"B\", randomrooms())"
   ]
  },
  {
   "cell_type": "markdown",
   "metadata": {
    "id": "5aXQcYRq3_lF"
   },
   "source": [
    "# Agent aspirateur réflexe simple avec etat interne :\n",
    "Cet aspirateur va nettoyer la piece si elle est sale, mais si elle est propre il change de pièce \n",
    "Il agit exactement comme le précédent aspirateur mais cette fois il va se souvenir qu'il a nettoyer une salle\n",
    "Il aura une mémoire !"
   ]
  },
  {
   "cell_type": "code",
   "execution_count": 6,
   "metadata": {
    "id": "GBWBfHUrX3vU"
   },
   "outputs": [],
   "source": [
    "def aspirateur__etatinterne (emp,etat):\n",
    "    action = \"\"\n",
    "    statut= \"\"\n",
    "    memsalles= []\n",
    "    sacpouss = 0\n",
    "    print(\"Etat des pieces au depart : \", \"A : \", etat[0],\" B : \",etat[1])\n",
    "    print(\"Piece ou l'aspirateur est initialement : \", emp)\n",
    "    print(\"-------------------------------------------------------------\")\n",
    "    print(\"COMMENCEMENT\")\n",
    "    if emp == \"A\" :\n",
    "        print(\"Salle : \",emp)\n",
    "        print(\"Etat initial : \", etat[0])\n",
    "        if etat[0] == \"sale\":\n",
    "            action = \"aspirer\"\n",
    "            etat[0] = etat[0].replace(etat[0],\"propre\")\n",
    "            print(\"Action :\", action, \" nouvel etat : \", etat[0])\n",
    "            sacpouss = randompouss(sacpouss)\n",
    "            memsalles.append(\"A\")\n",
    "            print(\"Mémoire des salles nettoyees :\",memsalles)\n",
    "        else :\n",
    "            action = \"Droite\"\n",
    "            emp = \"B\"\n",
    "            print(\"Action :\", action, \"nouvelle salle : \", emp)\n",
    "            print(\"Mémoire des salles nettoyees :\",memsalles)\n",
    "    else :\n",
    "        print(\"Salle : \",emp)\n",
    "        print(\"Etat initial : \", etat[1])\n",
    "        if etat[1] == \"sale\":\n",
    "            action = \"aspirer\"\n",
    "            etat[1] = etat[1].replace(etat[1],\"propre\")\n",
    "            print(\"Action :\", action, \" nouvel etat : \", etat[1])\n",
    "            sacpouss = randompouss(sacpouss)\n",
    "            memsalles.append(\"B\")\n",
    "            print(\"Mémoire des salles nettoyees :\",memsalles)\n",
    "        else :\n",
    "            action = \"Gauche\"\n",
    "            emp = \"A\"\n",
    "            print(\"Action :\", action, \"nouvelle salle : \", emp)\n",
    "            print(\"Mémoire des salles nettoyees :\",memsalles)\n",
    "    print(\"Etat salle A :\",etat[0] ,\" Etat salle B :\",etat[1])"
   ]
  },
  {
   "cell_type": "code",
   "execution_count": 7,
   "metadata": {
    "colab": {
     "base_uri": "https://localhost:8080/",
     "height": 158
    },
    "id": "D3qFP8_5UXlL",
    "outputId": "52da6128-0a15-4eec-b90b-a7665e061f2e"
   },
   "outputs": [
    {
     "name": "stdout",
     "output_type": "stream",
     "text": [
      "Etat des pieces au depart :  A :  sale  B :  propre\n",
      "Piece ou l'aspirateur est initialement :  A\n",
      "-------------------------------------------------------------\n",
      "COMMENCEMENT\n",
      "Salle :  A\n",
      "Etat initial :  sale\n",
      "Action : aspirer  nouvel etat :  propre\n",
      "Etat du sac a poussière :  0.10798049476889637  g de poussière\n",
      "Il reste  0.8920195052311036  avant le changement de sac\n",
      "Mémoire des salles nettoyees : ['A']\n",
      "Etat salle A : propre  Etat salle B : propre\n"
     ]
    }
   ],
   "source": [
    "aspirateur__etatinterne(\"A\", randomrooms())"
   ]
  },
  {
   "cell_type": "markdown",
   "metadata": {
    "id": "D9m3XwXGy0Bl"
   },
   "source": [
    "# Agent aspirateur reflexe\n",
    "Il a comme but d'arriver a la dernière piece en nettoyant toutes les salles sur son passage"
   ]
  },
  {
   "cell_type": "code",
   "execution_count": 8,
   "metadata": {
    "id": "MqXzy940zBb-"
   },
   "outputs": [],
   "source": [
    "##Recréation de la function qui céer les salles de manière aléatoire\n",
    "## Mais cette fois si on peut choisir le nombre de salles a générer\n",
    "def randomroomsnb(nbsalle) :\n",
    "    listeetat = []\n",
    "    listesalles = []\n",
    "    for i in range(nbsalle):\n",
    "        if random() <= 0.50 :\n",
    "            listeetat.append(\"sale\")\n",
    "        else:\n",
    "            listeetat.append(\"propre\")\n",
    "    alpha = 'a'\n",
    "    for i in range(0, nbsalle): \n",
    "        listesalles.append(alpha.upper()) \n",
    "        alpha = chr(ord(alpha) + 1) \n",
    "    return listeetat,listesalles "
   ]
  },
  {
   "cell_type": "code",
   "execution_count": 9,
   "metadata": {
    "colab": {
     "base_uri": "https://localhost:8080/",
     "height": 212
    },
    "id": "JDkz3cj3zPe4",
    "outputId": "b64bcfa8-7a61-4851-93cd-d9105fc0ba7e"
   },
   "outputs": [
    {
     "data": {
      "text/plain": [
       "(['sale',\n",
       "  'sale',\n",
       "  'sale',\n",
       "  'sale',\n",
       "  'sale',\n",
       "  'propre',\n",
       "  'sale',\n",
       "  'propre',\n",
       "  'sale',\n",
       "  'propre'],\n",
       " ['A', 'B', 'C', 'D', 'E', 'F', 'G', 'H', 'I', 'J'])"
      ]
     },
     "execution_count": 9,
     "metadata": {},
     "output_type": "execute_result"
    }
   ],
   "source": [
    "randomroomsnb(10)"
   ]
  },
  {
   "cell_type": "code",
   "execution_count": 10,
   "metadata": {
    "id": "nM-cMcovWZM0"
   },
   "outputs": [],
   "source": [
    "##Cette fonction génère des chemins\n",
    "## Elle prend en argument le nombre de chemin et le nombre de salles en tout\n",
    "def chemin_generator(salles,nb):\n",
    "    chemins=[[] for i in range(nb)]\n",
    "    for i in range(nb):\n",
    "        liste = list(salles[1])\n",
    "        size = randint(1,len(salles[1]))\n",
    "        for j in range(size):\n",
    "            id = randint(0,len(liste)-1)\n",
    "            # print(\"id \", id)\n",
    "            # print(\"liste \", len(liste))\n",
    "            # print(\"chemin \", len(chemins))\n",
    "            chemins[i].append(liste[id])\n",
    "            liste.remove(liste[id])\n",
    "    return chemins"
   ]
  },
  {
   "cell_type": "code",
   "execution_count": 11,
   "metadata": {
    "colab": {
     "base_uri": "https://localhost:8080/",
     "height": 52
    },
    "id": "crNC0mvM0rwe",
    "outputId": "b9356253-4ff3-43fa-cddb-d5407a5db432"
   },
   "outputs": [
    {
     "data": {
      "text/plain": [
       "[['D', 'I', 'B', 'H', 'G', 'F'], ['A', 'I']]"
      ]
     },
     "execution_count": 11,
     "metadata": {},
     "output_type": "execute_result"
    }
   ],
   "source": [
    "##Faire function qui génère des chemins en fonction d'un point A a un point B\n",
    "##chemin =  ['A', 'B',  'D', 'C', 'E', 'F'],['A','J','I','H','G','F']\n",
    "chemin = chemin_generator(randomroomsnb(10),2)\n",
    "chemin"
   ]
  },
  {
   "cell_type": "code",
   "execution_count": 12,
   "metadata": {
    "id": "MBYfWb1C0Z4a"
   },
   "outputs": [],
   "source": [
    "## Notre fonction agent reflexe \n",
    "## Le premier argument est le nom des salles et leur état\n",
    "## Le second arguments est la liste des chemins possibles\n",
    "def aspirateur__chemin (salles,chemins):\n",
    "    chemin = \"\"\n",
    "    chemincroi = \"\"\n",
    "    sacpouss = 0\n",
    "    if random() <= 0.50 :\n",
    "        chemin = chemins[0]\n",
    "    else:\n",
    "        chemin = chemins[1]\n",
    "\n",
    "    chemincroi = salles[1]\n",
    "\n",
    "    action = \"\"\n",
    "    print(\"Les chemins possibles : \", chemins)\n",
    "    print(\"Le chemin choisi : \", chemin)\n",
    "    print(\"Les salles : \",salles[1])\n",
    "    print(\"Etats des salles :\", salles[0] )\n",
    "    print(\"Piece ou l'aspirateur est initialement : \", chemin[0])\n",
    "    print(\"-------------------------------------------------------------\")\n",
    "    print(\"COMMENCEMENT\")\n",
    "    for i in range(len(chemin)) :\n",
    "        for j in range(len(chemincroi)):\n",
    "            if chemin[i] == chemincroi[j] :\n",
    "                if salles[0][j] == \"sale\" :\n",
    "                    emp = salles[1][j]\n",
    "                    etat = salles[0][j]\n",
    "                    print(\"Salles :\", emp,\"| Etat initial : \",etat)\n",
    "                    action = \"Aspirer\"\n",
    "                    print(\"Action réalisée : \",action)\n",
    "                    salles[0][j] = salles[0][j].replace(salles[0][j],\"propre\")\n",
    "                    etat = salles[0][j]\n",
    "                    print(\"Salles :\", emp,\"| Nouvel etat : \",etat)\n",
    "                    sacpouss = randompouss(sacpouss)\n",
    "                else :\n",
    "                    action = \"Deplacer\"\n",
    "                    emp = salles[1][j]\n",
    "                    etat = salles[0][j]\n",
    "                    print(\"Salles :\", emp,\"| Etat : \",etat)\n",
    "                    print(\"Action réalisée : \",action)\n",
    "\n",
    "    print(\"Emplacement final : \",emp)\n",
    "    print(\"Les salles : \",salles[1])\n",
    "    print(\"Etats des salles :\", salles[0] )"
   ]
  },
  {
   "cell_type": "code",
   "execution_count": 13,
   "metadata": {
    "colab": {
     "base_uri": "https://localhost:8080/",
     "height": 727
    },
    "id": "TsnkKq-v2K-F",
    "outputId": "c8a45aa4-9298-4c7d-c1c2-1b55a33f3a4a"
   },
   "outputs": [
    {
     "name": "stdout",
     "output_type": "stream",
     "text": [
      "Les chemins possibles :  [['E', 'C', 'J', 'I', 'F', 'A', 'H'], ['I', 'H', 'J', 'A', 'B', 'G', 'C']]\n",
      "Le chemin choisi :  ['E', 'C', 'J', 'I', 'F', 'A', 'H']\n",
      "Les salles :  ['A', 'B', 'C', 'D', 'E', 'F', 'G', 'H', 'I', 'J']\n",
      "Etats des salles : ['propre', 'propre', 'sale', 'propre', 'sale', 'propre', 'propre', 'propre', 'propre', 'sale']\n",
      "Piece ou l'aspirateur est initialement :  E\n",
      "-------------------------------------------------------------\n",
      "COMMENCEMENT\n",
      "Salles : E | Etat initial :  sale\n",
      "Action réalisée :  Aspirer\n",
      "Salles : E | Nouvel etat :  propre\n",
      "Etat du sac a poussière :  0.6968762860367168  g de poussière\n",
      "Il reste  0.3031237139632832  avant le changement de sac\n",
      "Salles : C | Etat initial :  sale\n",
      "Action réalisée :  Aspirer\n",
      "Salles : C | Nouvel etat :  propre\n",
      "Etat du sac a poussière :  0.9068579904911768  g de poussière\n",
      "Il reste  0.09314200950882323  avant le changement de sac\n",
      "Salles : J | Etat initial :  sale\n",
      "Action réalisée :  Aspirer\n",
      "Salles : J | Nouvel etat :  propre\n",
      "Etat du sac a poussière :  1.1696952054758065  g de poussière\n",
      "ATTENTION SAC PLEIN !\n",
      "CHANGEMENT DU SAC EN COURS\n",
      "Salles : I | Etat :  propre\n",
      "Action réalisée :  Deplacer\n",
      "Salles : F | Etat :  propre\n",
      "Action réalisée :  Deplacer\n",
      "Salles : A | Etat :  propre\n",
      "Action réalisée :  Deplacer\n",
      "Salles : H | Etat :  propre\n",
      "Action réalisée :  Deplacer\n",
      "Emplacement final :  H\n",
      "Les salles :  ['A', 'B', 'C', 'D', 'E', 'F', 'G', 'H', 'I', 'J']\n",
      "Etats des salles : ['propre', 'propre', 'propre', 'propre', 'propre', 'propre', 'propre', 'propre', 'propre', 'propre']\n"
     ]
    }
   ],
   "source": [
    "# aspirateur__chemin(randomroomsnb(10),chemin)\n",
    "aspirateur__chemin(randomroomsnb(10),chemin_generator(randomroomsnb(10),2))"
   ]
  },
  {
   "cell_type": "markdown",
   "metadata": {},
   "source": [
    "# Agents spirateur réflexes avec une fonction d'utilité\n",
    "Il a comme but d'arriver a la dernière piece en nettoyant toutes les salles sur son passage. Mais cette fois-ç en choisissant le chemin le plus court. Ici il choissira le chemin ou il y a le moins de piece salle. "
   ]
  },
  {
   "cell_type": "markdown",
   "metadata": {
    "id": "CEBcbShEOGZB"
   },
   "source": [
    "Code du choix du chemin en fonction du nombre de salles sales.\n",
    "Ici on va choisir le chemin ayant le moins de salles sales."
   ]
  },
  {
   "cell_type": "code",
   "execution_count": 14,
   "metadata": {
    "id": "tnm9x6jlFpXk"
   },
   "outputs": [],
   "source": [
    "def choix__chemin(salles,chemins):\n",
    "    chemincroi = salles[1]\n",
    "    nbsales = [0]*len(chemins)\n",
    "    for t in range(len(chemins)):\n",
    "        chemin = chemins[t]\n",
    "        for i in range(len(chemin)) :\n",
    "            for j in range(len(chemincroi)):\n",
    "                if chemin[i] == chemincroi[j] :\n",
    "                    if salles[0][j] == \"sale\" :\n",
    "                        nbsales[t] = nbsales[t]+1\n",
    "    print(\"Toutes les salles : \",salles[1])\n",
    "    print(\"Etat des salles : \" , salles[0])\n",
    "    print(\"Les chemins disponibles : \" , chemins)\n",
    "    print(\"Nombre de salles sales en fonction du chemin : \", nbsales)\n",
    "    print(\"L'index du plus petit chemin: \", nbsales.index(min(nbsales)),\"Le nombre de salles sales: \", min(nbsales) )\n",
    "\n",
    "    return chemins[nbsales.index(min(nbsales))]\n",
    "  "
   ]
  },
  {
   "cell_type": "markdown",
   "metadata": {
    "id": "BrJ7TCo8OPhc"
   },
   "source": [
    "Après avoir choisit le chemin, l'aspirateur décide de nettoyer les salles jusqu'au point désiré"
   ]
  },
  {
   "cell_type": "code",
   "execution_count": 15,
   "metadata": {
    "id": "buuvsrhvMguq"
   },
   "outputs": [],
   "source": [
    "def aspirateur__chemin__speed (salles,chemins):\n",
    "    chemin = choix__chemin(salles,chemins)\n",
    "    chemincroi = salles[1]\n",
    "    sacpouss = 0\n",
    "    action = \"\"\n",
    "    print(\"Le chemin choisi : \", chemin)\n",
    "    print(\"Piece ou l'aspirateur est initialement : \", chemin[0])\n",
    "    print(\"-------------------------------------------------------------\")\n",
    "    print(\"COMMENCEMENT\")\n",
    "    for i in range(len(chemin)) :\n",
    "        for j in range(len(chemincroi)):\n",
    "            if chemin[i] == chemincroi[j] :\n",
    "                if salles[0][j] == \"sale\" :\n",
    "                    emp = salles[1][j]\n",
    "                    etat = salles[0][j]\n",
    "                    print(\"salles :\", emp,\" etat initial : \",etat)\n",
    "                    action = \"aspirer\"\n",
    "                    sacpouss = randompouss(sacpouss)\n",
    "                    print(\"Action réalisée : \",action)\n",
    "                    salles[0][j] = salles[0][j].replace(salles[0][j],\"propre\")\n",
    "                    etat = salles[0][j]\n",
    "                    print(\"salles :\", emp,\" nouvel etat : \",etat)\n",
    "                else :\n",
    "                    action = \"deplacer\"\n",
    "                    emp = salles[1][j]\n",
    "                    etat = salles[0][j]\n",
    "                    print(\"salles :\", emp,\"etat : \",etat)\n",
    "                    print(\"Action réalisée : \",action)\n",
    "\n",
    "    print(\"Emplacement final : \",emp,\" Les salles : \",salles[1], \" etats des salles :\", salles[0] )"
   ]
  },
  {
   "cell_type": "code",
   "execution_count": 16,
   "metadata": {
    "colab": {
     "base_uri": "https://localhost:8080/",
     "height": 585
    },
    "id": "P3j1hNvzFvJr",
    "outputId": "9057b501-4fb4-4649-eb50-91642484b75f"
   },
   "outputs": [
    {
     "name": "stdout",
     "output_type": "stream",
     "text": [
      "Toutes les salles :  ['A', 'B', 'C', 'D', 'E', 'F', 'G', 'H', 'I', 'J']\n",
      "Etat des salles :  ['sale', 'sale', 'sale', 'sale', 'sale', 'propre', 'propre', 'propre', 'sale', 'sale']\n",
      "Les chemins disponibles :  [['J', 'B'], ['J', 'H', 'F', 'C', 'E', 'I', 'A', 'D', 'B', 'G']]\n",
      "Nombre de salles sales en fonction du chemin :  [2, 7]\n",
      "L'index du plus petit chemin:  0 Le nombre de salles sales:  2\n",
      "Le chemin choisi :  ['J', 'B']\n",
      "Piece ou l'aspirateur est initialement :  J\n",
      "-------------------------------------------------------------\n",
      "COMMENCEMENT\n",
      "salles : J  etat initial :  sale\n",
      "Etat du sac a poussière :  0.9846798957222551  g de poussière\n",
      "Il reste  0.015320104277744884  avant le changement de sac\n",
      "Action réalisée :  aspirer\n",
      "salles : J  nouvel etat :  propre\n",
      "salles : B  etat initial :  sale\n",
      "Etat du sac a poussière :  1.649825138874844  g de poussière\n",
      "ATTENTION SAC PLEIN !\n",
      "CHANGEMENT DU SAC EN COURS\n",
      "Action réalisée :  aspirer\n",
      "salles : B  nouvel etat :  propre\n",
      "Emplacement final :  B  Les salles :  ['A', 'B', 'C', 'D', 'E', 'F', 'G', 'H', 'I', 'J']  etats des salles : ['sale', 'propre', 'sale', 'sale', 'sale', 'propre', 'propre', 'propre', 'sale', 'propre']\n"
     ]
    }
   ],
   "source": [
    "aspirateur__chemin__speed(randomroomsnb(10),chemin_generator(randomroomsnb(10),2))"
   ]
  }
 ],
 "metadata": {
  "colab": {
   "collapsed_sections": [],
   "name": "Agent aspirateur",
   "provenance": []
  },
  "kernelspec": {
   "display_name": "Python 3",
   "language": "python",
   "name": "python3"
  },
  "language_info": {
   "codemirror_mode": {
    "name": "ipython",
    "version": 3
   },
   "file_extension": ".py",
   "mimetype": "text/x-python",
   "name": "python",
   "nbconvert_exporter": "python",
   "pygments_lexer": "ipython3",
   "version": "3.8.5"
  }
 },
 "nbformat": 4,
 "nbformat_minor": 4
}
